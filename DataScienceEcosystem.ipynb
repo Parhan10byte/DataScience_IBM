{
 "cells": [
  {
   "cell_type": "markdown",
   "id": "09c8a5fd-75c9-4210-b2e0-3f0606a1b479",
   "metadata": {},
   "source": [
    "# Data Science Tools and Ecosystem"
   ]
  },
  {
   "cell_type": "markdown",
   "id": "788fbcce-f079-4722-948a-a493192439e6",
   "metadata": {},
   "source": [
    "In this notebook, Data Science Tools and Ecosystem are summarized."
   ]
  },
  {
   "cell_type": "markdown",
   "id": "d47724de-4ac0-4362-90af-2595904e9631",
   "metadata": {},
   "source": [
    "**Objectives:**\n",
    "+ List popular languages for Data Science\n",
    "+ List some of the commonly used libraries used by Data Scientist\n",
    "+ Table pf Data Science tools\n",
    "+ Examples of evaluating arithmetic expressions in Python\n"
   ]
  },
  {
   "cell_type": "markdown",
   "id": "84a9f080-40cc-48c1-819e-9d107c44c2fa",
   "metadata": {},
   "source": [
    "## Author\n",
    "Felipe Esteban Olaya Arias"
   ]
  },
  {
   "cell_type": "markdown",
   "id": "e60391e4-461e-40f6-b9f8-d2668bf485ba",
   "metadata": {},
   "source": [
    "Some of the popular languages that Data Scientists use are:\n",
    "1. Python\n",
    "2. R\n",
    "3. SQL\n",
    "5. Julia\n",
    "6. Scala\n",
    "7. Java\n",
    "8. C++"
   ]
  },
  {
   "cell_type": "markdown",
   "id": "0e7b93bc-1e2c-4ca3-a9d9-73d9d48c1469",
   "metadata": {},
   "source": [
    "Some of the commonly used libraries used by Data Scientist include: \n",
    "1. Pandas\n",
    "2. NumPy\n",
    "3. Matplotlib\n",
    "4. Seaborn\n",
    "5. Scikit-Learn\n",
    "6. Keras\n",
    "7. TensorFlow\n",
    "8. Pytorch\n",
    "9. Vegas (Scala)\n",
    "10. BigDl (Scala)\n",
    "11. ggplot2 (R)"
   ]
  },
  {
   "cell_type": "markdown",
   "id": "7bd9f6d4-5379-4fa8-bd53-e6bc328727f1",
   "metadata": {},
   "source": [
    "| **Data Science Tools** |\n",
    "|------------------------|\n",
    "| RStudio |\n",
    "| JupyterLab |\n",
    "| Spyder |\n",
    "\n"
   ]
  },
  {
   "cell_type": "markdown",
   "id": "46454ea1-d821-4b38-83bd-e808461d1e3c",
   "metadata": {},
   "source": [
    "### Below are a few examples of evaluating arithmetic expressions in Python"
   ]
  },
  {
   "cell_type": "code",
   "execution_count": 2,
   "id": "8642c4a0-c55a-472f-934e-37af0c870477",
   "metadata": {},
   "outputs": [
    {
     "data": {
      "text/plain": [
       "17"
      ]
     },
     "execution_count": 2,
     "metadata": {},
     "output_type": "execute_result"
    }
   ],
   "source": [
    "# This a simple arithmetic expression to multiply then add integers\n",
    "(3*4)+5"
   ]
  },
  {
   "cell_type": "code",
   "execution_count": 3,
   "id": "7188a460-674a-4eb5-87b2-af4e9a5e38b1",
   "metadata": {},
   "outputs": [
    {
     "data": {
      "text/plain": [
       "3.3333333333333335"
      ]
     },
     "execution_count": 3,
     "metadata": {},
     "output_type": "execute_result"
    }
   ],
   "source": [
    "# This will convert 200 minutes to hours by diving by 60\n",
    "200/60"
   ]
  },
  {
   "cell_type": "code",
   "execution_count": null,
   "id": "fcc4d40d-0716-4155-b725-bb1223d47ca9",
   "metadata": {},
   "outputs": [],
   "source": []
  }
 ],
 "metadata": {
  "kernelspec": {
   "display_name": "Python [conda env:RP_Env]",
   "language": "python",
   "name": "conda-env-RP_Env-py"
  },
  "language_info": {
   "codemirror_mode": {
    "name": "ipython",
    "version": 3
   },
   "file_extension": ".py",
   "mimetype": "text/x-python",
   "name": "python",
   "nbconvert_exporter": "python",
   "pygments_lexer": "ipython3",
   "version": "3.13.5"
  }
 },
 "nbformat": 4,
 "nbformat_minor": 5
}
